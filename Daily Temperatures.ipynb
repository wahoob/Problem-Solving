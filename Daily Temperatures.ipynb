{
 "cells": [
  {
   "cell_type": "markdown",
   "metadata": {},
   "source": [
    "Example 1:\n",
    "Input: temperatures = [73,74,75,71,69,72,76,73]\n",
    "Output: [1,1,4,2,1,1,0,0]\n",
    "\n",
    "Example 2:\n",
    "Input: temperatures = [30,40,50,60]\n",
    "Output: [1,1,1,0]\n",
    "\n",
    "Example 3:\n",
    "Input: temperatures = [30,60,90]\n",
    "Output: [1,1,0]"
   ]
  },
  {
   "cell_type": "code",
   "execution_count": 13,
   "metadata": {},
   "outputs": [],
   "source": [
    "class Solution:\n",
    "    def dailyTemperatures(self, temperatures: list[int]) -> list[int]:\n",
    "        res = [0] * len(temperatures)\n",
    "\n",
    "        stack = []\n",
    "        for i in range(len(temperatures)):\n",
    "            cur = temperatures[i]\n",
    "            while stack and cur > stack[-1][0]:\n",
    "                val = stack.pop()\n",
    "                idx = val[1]\n",
    "                res[idx] = i - idx\n",
    "            stack.append((cur, i))\n",
    "\n",
    "        return res"
   ]
  },
  {
   "cell_type": "code",
   "execution_count": 14,
   "metadata": {},
   "outputs": [
    {
     "data": {
      "text/plain": [
       "[1, 1, 4, 2, 1, 1, 0, 0]"
      ]
     },
     "execution_count": 14,
     "metadata": {},
     "output_type": "execute_result"
    }
   ],
   "source": [
    "sol = Solution()\n",
    "sol.dailyTemperatures([73,74,75,71,69,72,76,73])"
   ]
  }
 ],
 "metadata": {
  "kernelspec": {
   "display_name": "Python 3",
   "language": "python",
   "name": "python3"
  },
  "language_info": {
   "codemirror_mode": {
    "name": "ipython",
    "version": 3
   },
   "file_extension": ".py",
   "mimetype": "text/x-python",
   "name": "python",
   "nbconvert_exporter": "python",
   "pygments_lexer": "ipython3",
   "version": "3.11.0"
  }
 },
 "nbformat": 4,
 "nbformat_minor": 2
}
