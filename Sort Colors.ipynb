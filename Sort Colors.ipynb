{
 "cells": [
  {
   "cell_type": "markdown",
   "metadata": {},
   "source": [
    "Example 1:\n",
    "Input: nums = [2,0,2,1,1,0]\n",
    "Output: [0,0,1,1,2,2]\n",
    "\n",
    "Example 2:\n",
    "Input: nums = [2,0,1]\n",
    "Output: [0,1,2]"
   ]
  },
  {
   "cell_type": "code",
   "execution_count": 9,
   "metadata": {},
   "outputs": [],
   "source": [
    "class Solution:\n",
    "    def sortColors(self, nums: list[int]) -> None:\n",
    "        left, current, right = 0, 0, len(nums) - 1\n",
    "\n",
    "        while current <= right:\n",
    "            if nums[current] == 0:\n",
    "                nums[left], nums[current] = nums[current], nums[left]\n",
    "                left += 1\n",
    "                current += 1\n",
    "            elif nums[current] == 2:\n",
    "                nums[right], nums[current] = nums[current], nums[right]\n",
    "                right -= 1\n",
    "            else:\n",
    "                current += 1"
   ]
  },
  {
   "cell_type": "code",
   "execution_count": 10,
   "metadata": {},
   "outputs": [],
   "source": [
    "sol = Solution()\n",
    "sol.sortColors([2,0,1])"
   ]
  }
 ],
 "metadata": {
  "kernelspec": {
   "display_name": "Python 3",
   "language": "python",
   "name": "python3"
  },
  "language_info": {
   "codemirror_mode": {
    "name": "ipython",
    "version": 3
   },
   "file_extension": ".py",
   "mimetype": "text/x-python",
   "name": "python",
   "nbconvert_exporter": "python",
   "pygments_lexer": "ipython3",
   "version": "3.11.0"
  }
 },
 "nbformat": 4,
 "nbformat_minor": 2
}
