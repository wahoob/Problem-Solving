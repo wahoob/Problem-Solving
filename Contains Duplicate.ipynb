{
 "cells": [
  {
   "cell_type": "markdown",
   "metadata": {},
   "source": [
    "Example 1:\n",
    "Input: nums = [1,2,3,1]\n",
    "Output: true\n",
    "\n",
    "Example 2:\n",
    "Input: nums = [1,2,3,4]\n",
    "Output: false\n",
    "\n",
    "Example 3:\n",
    "Input: nums = [1,1,1,3,3,4,3,2,4,2]\n",
    "Output: true"
   ]
  },
  {
   "cell_type": "code",
   "execution_count": 1,
   "metadata": {},
   "outputs": [],
   "source": [
    "class Solution:\n",
    "    def containsDuplicate(self, nums: list[int]) -> bool:\n",
    "        duplicates = {}\n",
    "        for number in nums:\n",
    "            if number in duplicates:\n",
    "                return True\n",
    "            duplicates[number] = number\n",
    "        return False"
   ]
  },
  {
   "cell_type": "code",
   "execution_count": 5,
   "metadata": {},
   "outputs": [
    {
     "data": {
      "text/plain": [
       "True"
      ]
     },
     "execution_count": 5,
     "metadata": {},
     "output_type": "execute_result"
    }
   ],
   "source": [
    "sol = Solution()\n",
    "sol.containsDuplicate([1,1,1,3,3,4,3,2,4,2])"
   ]
  }
 ],
 "metadata": {
  "kernelspec": {
   "display_name": "Python 3",
   "language": "python",
   "name": "python3"
  },
  "language_info": {
   "codemirror_mode": {
    "name": "ipython",
    "version": 3
   },
   "file_extension": ".py",
   "mimetype": "text/x-python",
   "name": "python",
   "nbconvert_exporter": "python",
   "pygments_lexer": "ipython3",
   "version": "3.11.0"
  }
 },
 "nbformat": 4,
 "nbformat_minor": 2
}
