{
 "cells": [
  {
   "cell_type": "markdown",
   "metadata": {},
   "source": [
    "Example 1:\n",
    "Input: nums1 = [4,1,2], nums2 = [1,3,4,2]\n",
    "Output: [-1,3,-1]\n",
    "Explanation: The next greater element for each value of nums1 is as follows:\n",
    "- 4 is underlined in nums2 = [1,3,4,2]. There is no next greater element, so the answer is -1.\n",
    "- 1 is underlined in nums2 = [1,3,4,2]. The next greater element is 3.\n",
    "- 2 is underlined in nums2 = [1,3,4,2]. There is no next greater element, so the answer is -1.\n",
    "\n",
    "Example 2:\n",
    "Input: nums1 = [2,4], nums2 = [1,2,3,4]\n",
    "Output: [3,-1]\n",
    "Explanation: The next greater element for each value of nums1 is as follows:\n",
    "- 2 is underlined in nums2 = [1,2,3,4]. The next greater element is 3.\n",
    "- 4 is underlined in nums2 = [1,2,3,4]. There is no next greater element, so the answer is -1."
   ]
  },
  {
   "cell_type": "code",
   "execution_count": 59,
   "metadata": {},
   "outputs": [],
   "source": [
    "class Solution:\n",
    "    def nextGreaterElement(self, nums1: list[int], nums2: list[int]) -> list[int]:\n",
    "        hashmap = {}\n",
    "        ans = []\n",
    "        l = len(nums2)\n",
    "        \n",
    "        for i, n in enumerate(nums2):\n",
    "            hashmap[n] = i\n",
    "        for n in nums1:\n",
    "            j = hashmap[n] + 1\n",
    "            while j - 1 < l:\n",
    "                if j == l:\n",
    "                    ans.append(-1)\n",
    "                    break\n",
    "                if nums2[j] > n:\n",
    "                    ans.append(nums2[j])\n",
    "                    break\n",
    "                j += 1\n",
    "        \n",
    "        return ans"
   ]
  },
  {
   "cell_type": "code",
   "execution_count": 66,
   "metadata": {},
   "outputs": [],
   "source": [
    "class Solution1:\n",
    "    def nextGreaterElement(self, nums1: list[int], nums2: list[int]) -> list[int]:\n",
    "        hashmap = {n:i for i, n in enumerate(nums1)}\n",
    "        res = [-1] * len(nums1)\n",
    "\n",
    "        stack = []\n",
    "        for i in range(len(nums2)):\n",
    "            current = nums2[i]\n",
    "            while stack and current > stack[-1]:\n",
    "                val = stack.pop()\n",
    "                res[hashmap[val]] = current\n",
    "            if current in hashmap:\n",
    "                stack.append(current)\n",
    "\n",
    "        return res"
   ]
  },
  {
   "cell_type": "code",
   "execution_count": 67,
   "metadata": {},
   "outputs": [
    {
     "data": {
      "text/plain": [
       "[-1, 3, -1]"
      ]
     },
     "execution_count": 67,
     "metadata": {},
     "output_type": "execute_result"
    }
   ],
   "source": [
    "sol = Solution1()\n",
    "sol.nextGreaterElement([4,1,2], [1,3,4,2])"
   ]
  }
 ],
 "metadata": {
  "kernelspec": {
   "display_name": "Python 3",
   "language": "python",
   "name": "python3"
  },
  "language_info": {
   "codemirror_mode": {
    "name": "ipython",
    "version": 3
   },
   "file_extension": ".py",
   "mimetype": "text/x-python",
   "name": "python",
   "nbconvert_exporter": "python",
   "pygments_lexer": "ipython3",
   "version": "3.11.0"
  }
 },
 "nbformat": 4,
 "nbformat_minor": 2
}
