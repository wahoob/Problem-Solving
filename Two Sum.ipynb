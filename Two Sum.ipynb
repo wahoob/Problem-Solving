{
 "cells": [
  {
   "cell_type": "markdown",
   "metadata": {},
   "source": [
    "Example 1:\n",
    "Input: nums = [2,7,11,15], target = 9\n",
    "Output: [0,1]\n",
    "Explanation: Because nums[0] + nums[1] == 9, we return [0, 1].\n",
    "\n",
    "Example 2:\n",
    "Input: nums = [3,2,4], target = 6\n",
    "Output: [1,2]\n",
    "\n",
    "Example 3:\n",
    "Input: nums = [3,3], target = 6\n",
    "Output: [0,1]"
   ]
  },
  {
   "cell_type": "code",
   "execution_count": 23,
   "metadata": {},
   "outputs": [],
   "source": [
    "class Solution:\n",
    "    def twoSum(self, nums: list[int], target: int) -> list[int]:\n",
    "        hashtable = {}\n",
    "        for idx, num in enumerate(nums):\n",
    "            search = target - num\n",
    "            if search in hashtable:\n",
    "                return [idx, hashtable[search]]\n",
    "            hashtable[num] = idx"
   ]
  },
  {
   "cell_type": "code",
   "execution_count": 24,
   "metadata": {},
   "outputs": [],
   "source": [
    "class Solution2:\n",
    "    def twoSumTwoPointers(self, nums: list[int], target: int) -> list[int]:\n",
    "        nums_with_index = [(value, index) for index, value in enumerate(nums)]\n",
    "        nums_with_index.sort()\n",
    "\n",
    "        left = 0\n",
    "        right = len(nums) - 1\n",
    "\n",
    "        while left < right:\n",
    "            sum = nums_with_index[left][0] + nums_with_index[right][0]\n",
    "\n",
    "            if sum == target:\n",
    "                return [nums_with_index[left][1], nums_with_index[right][1]]\n",
    "            elif sum < target:\n",
    "                left += 1\n",
    "            else:\n",
    "                right -= 1"
   ]
  },
  {
   "cell_type": "code",
   "execution_count": 27,
   "metadata": {},
   "outputs": [
    {
     "data": {
      "text/plain": [
       "[1, 0]"
      ]
     },
     "execution_count": 27,
     "metadata": {},
     "output_type": "execute_result"
    }
   ],
   "source": [
    "sol = Solution()\n",
    "sol.twoSum([2,7,11,15], 9)"
   ]
  },
  {
   "cell_type": "code",
   "execution_count": 28,
   "metadata": {},
   "outputs": [
    {
     "data": {
      "text/plain": [
       "[1, 2]"
      ]
     },
     "execution_count": 28,
     "metadata": {},
     "output_type": "execute_result"
    }
   ],
   "source": [
    "sol = Solution2()\n",
    "sol.twoSumTwoPointers([3,2,4], 6)"
   ]
  }
 ],
 "metadata": {
  "kernelspec": {
   "display_name": "Python 3",
   "language": "python",
   "name": "python3"
  },
  "language_info": {
   "codemirror_mode": {
    "name": "ipython",
    "version": 3
   },
   "file_extension": ".py",
   "mimetype": "text/x-python",
   "name": "python",
   "nbconvert_exporter": "python",
   "pygments_lexer": "ipython3",
   "version": "3.11.0"
  }
 },
 "nbformat": 4,
 "nbformat_minor": 2
}
