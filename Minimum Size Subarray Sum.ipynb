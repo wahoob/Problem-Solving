{
 "cells": [
  {
   "cell_type": "markdown",
   "metadata": {},
   "source": [
    "Example 1:\n",
    "Input: target = 7, nums = [2,3,1,2,4,3]\n",
    "Output: 2\n",
    "Explanation: The subarray [4,3] has the minimal length under the problem constraint.\n",
    "\n",
    "Example 2:\n",
    "Input: target = 4, nums = [1,4,4]\n",
    "Output: 1\n",
    "\n",
    "Example 3:\n",
    "Input: target = 11, nums = [1,1,1,1,1,1,1,1]\n",
    "Output: 0"
   ]
  },
  {
   "cell_type": "code",
   "execution_count": 52,
   "metadata": {},
   "outputs": [],
   "source": [
    "class Solution:\n",
    "    def minSubArrayLen(self, target: int, nums: list[int]) -> int:\n",
    "        l, r = 0, 1\n",
    "        shortest = float('inf')\n",
    "        n = len(nums)\n",
    "        prefix = [0] * (n + 1)\n",
    "\n",
    "        for i in range(n):\n",
    "            prefix[i + 1] = prefix[i] + nums[i]\n",
    "\n",
    "        while r < n + 1:\n",
    "            sum = prefix[r] - prefix[l]\n",
    "\n",
    "            if sum < target:\n",
    "                r += 1\n",
    "            else:\n",
    "                shortest = min(r - l, shortest)\n",
    "                l += 1\n",
    "\n",
    "        return shortest if shortest != float('inf') else 0"
   ]
  },
  {
   "cell_type": "code",
   "execution_count": 57,
   "metadata": {},
   "outputs": [],
   "source": [
    "class Solution2:\n",
    "    def minSubArrayLen(self, target: int, nums: list[int]) -> int:\n",
    "        l, total = 0, 0\n",
    "        shortest = float(\"inf\")\n",
    "\n",
    "        for r in range(len(nums)):\n",
    "            total += nums[r]\n",
    "\n",
    "            while total >= target:\n",
    "                shortest = min(r - l + 1, shortest)\n",
    "                total -= nums[l]\n",
    "                l += 1\n",
    "\n",
    "        return 0 if shortest == float(\"inf\") else shortest"
   ]
  },
  {
   "cell_type": "code",
   "execution_count": 59,
   "metadata": {},
   "outputs": [
    {
     "data": {
      "text/plain": [
       "2"
      ]
     },
     "execution_count": 59,
     "metadata": {},
     "output_type": "execute_result"
    }
   ],
   "source": [
    "sol = Solution()\n",
    "sol.minSubArrayLen(7, [2,3,1,2,4,3])"
   ]
  }
 ],
 "metadata": {
  "kernelspec": {
   "display_name": "Python 3",
   "language": "python",
   "name": "python3"
  },
  "language_info": {
   "codemirror_mode": {
    "name": "ipython",
    "version": 3
   },
   "file_extension": ".py",
   "mimetype": "text/x-python",
   "name": "python",
   "nbconvert_exporter": "python",
   "pygments_lexer": "ipython3",
   "version": "3.11.0"
  }
 },
 "nbformat": 4,
 "nbformat_minor": 2
}
