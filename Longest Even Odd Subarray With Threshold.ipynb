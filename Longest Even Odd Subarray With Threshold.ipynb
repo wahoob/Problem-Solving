{
 "cells": [
  {
   "cell_type": "markdown",
   "metadata": {},
   "source": [
    "Example 1:\n",
    "Input: nums = [3,2,5,4], threshold = 5\n",
    "Output: 3\n",
    "Explanation: In this example, we can select the subarray that starts at l = 1 and ends at r = 3 => [2,5,4]. This subarray satisfies the conditions.\n",
    "Hence, the answer is the length of the subarray, 3. We can show that 3 is the maximum possible achievable length.\n",
    "\n",
    "Example 2:\n",
    "Input: nums = [1,2], threshold = 2\n",
    "Output: 1\n",
    "Explanation: In this example, we can select the subarray that starts at l = 1 and ends at r = 1 => [2]. \n",
    "It satisfies all the conditions and we can show that 1 is the maximum possible achievable length.\n",
    "\n",
    "Example 3:\n",
    "Input: nums = [2,3,4,5], threshold = 4\n",
    "Output: 3\n",
    "Explanation: In this example, we can select the subarray that starts at l = 0 and ends at r = 2 => [2,3,4]. \n",
    "It satisfies all the conditions.\n",
    "Hence, the answer is the length of the subarray, 3. We can show that 3 is the maximum possible achievable length."
   ]
  },
  {
   "cell_type": "code",
   "execution_count": 7,
   "metadata": {},
   "outputs": [],
   "source": [
    "class Solution:\n",
    "    def longestAlternatingSubarray(self, nums: list[int], threshold: int) -> int:\n",
    "        longest = 0\n",
    "        current = 0\n",
    "\n",
    "        for i in range(len(nums)):\n",
    "            if nums[i] > threshold:\n",
    "                current = 0\n",
    "            elif current == 0 and nums[i] % 2 == 0:\n",
    "                current = 1\n",
    "            elif current > 0 and nums[i] % 2 != nums[i - 1] % 2:\n",
    "                current += 1\n",
    "            else:\n",
    "                current = 1 if nums[i] % 2 == 0 else 0\n",
    "\n",
    "            longest = max(current, longest)\n",
    "\n",
    "        return longest"
   ]
  },
  {
   "cell_type": "code",
   "execution_count": 8,
   "metadata": {},
   "outputs": [
    {
     "data": {
      "text/plain": [
       "3"
      ]
     },
     "execution_count": 8,
     "metadata": {},
     "output_type": "execute_result"
    }
   ],
   "source": [
    "sol = Solution()\n",
    "sol.longestAlternatingSubarray([3,2,5,4], 5)"
   ]
  }
 ],
 "metadata": {
  "kernelspec": {
   "display_name": "Python 3",
   "language": "python",
   "name": "python3"
  },
  "language_info": {
   "codemirror_mode": {
    "name": "ipython",
    "version": 3
   },
   "file_extension": ".py",
   "mimetype": "text/x-python",
   "name": "python",
   "nbconvert_exporter": "python",
   "pygments_lexer": "ipython3",
   "version": "3.11.0"
  }
 },
 "nbformat": 4,
 "nbformat_minor": 2
}
